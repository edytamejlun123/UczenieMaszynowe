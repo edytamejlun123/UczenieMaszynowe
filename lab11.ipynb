{
  "nbformat": 4,
  "nbformat_minor": 0,
  "metadata": {
    "colab": {
      "provenance": [],
      "authorship_tag": "ABX9TyONF0w9n4moZdCCh69RazZ6",
      "include_colab_link": true
    },
    "kernelspec": {
      "name": "python3",
      "display_name": "Python 3"
    },
    "language_info": {
      "name": "python"
    }
  },
  "cells": [
    {
      "cell_type": "markdown",
      "metadata": {
        "id": "view-in-github",
        "colab_type": "text"
      },
      "source": [
        "<a href=\"https://colab.research.google.com/github/edytamejlun123/UczenieMaszynowe/blob/main/lab11.ipynb\" target=\"_parent\"><img src=\"https://colab.research.google.com/assets/colab-badge.svg\" alt=\"Open In Colab\"/></a>"
      ]
    },
    {
      "cell_type": "code",
      "execution_count": 67,
      "metadata": {
        "id": "QCpJjM0SxGKS"
      },
      "outputs": [],
      "source": [
        "from sklearn.datasets import fetch_openml\n",
        "from sklearn.ensemble import RandomForestClassifier\n",
        "from sklearn.model_selection import GridSearchCV, train_test_split\n",
        "from sklearn.pipeline import Pipeline, make_pipeline\n",
        "from sklearn.preprocessing import Normalizer"
      ]
    },
    {
      "cell_type": "code",
      "source": [
        "X, y = fetch_openml('mnist_784', version=1, return_X_y=True, as_frame=False, parser='pandas')\n",
        "X_train, X_test, y_train, y_test = train_test_split(X, y, test_size=.2)"
      ],
      "metadata": {
        "id": "pU5Mnj3vxQXb"
      },
      "execution_count": 68,
      "outputs": []
    },
    {
      "cell_type": "code",
      "source": [
        "preprocessing_pipeline = make_pipeline(\n",
        "    Normalizer(),\n",
        ")"
      ],
      "metadata": {
        "id": "ncCH0M4bxRoq"
      },
      "execution_count": 69,
      "outputs": []
    },
    {
      "cell_type": "code",
      "source": [
        "full_pipeline = Pipeline([\n",
        "    ('preprocessing', preprocessing_pipeline),\n",
        "    ('classification', RandomForestClassifier(random_state=42)),\n",
        "])"
      ],
      "metadata": {
        "id": "JojI_F5rxSmq"
      },
      "execution_count": 70,
      "outputs": []
    },
    {
      "cell_type": "code",
      "source": [
        "hiperparam_grid = ({\n",
        "      'preprocessing__normalizer__norm': ('l1', 'l2', 'max'),\n",
        "      'classification__n_estimators': (16, 32, 64),\n",
        "      'classification__max_features': range(5, 15, 5),\n",
        "  }, {\n",
        "      'preprocessing__normalizer__norm': ('l1', 'l2', 'max'),\n",
        "      'classification__n_estimators': (64, 128, 256),\n",
        "      'classification__max_features': ('sqrt', 'log2'),\n",
        "})"
      ],
      "metadata": {
        "id": "KwuF5Y-qxToi"
      },
      "execution_count": 71,
      "outputs": []
    },
    {
      "cell_type": "code",
      "source": [
        "grid_search = GridSearchCV(full_pipeline, hiperparam_grid, cv=3, scoring='accuracy', verbose=10)"
      ],
      "metadata": {
        "id": "UpeDwVTmxUu6"
      },
      "execution_count": 72,
      "outputs": []
    },
    {
      "cell_type": "code",
      "source": [
        "grid_search.fit(X_train, y_train)"
      ],
      "metadata": {
        "colab": {
          "base_uri": "https://localhost:8080/",
          "height": 1000
        },
        "id": "LXFlRQUXxVoC",
        "outputId": "650ca4e0-48a5-4737-8909-a626741b3299"
      },
      "execution_count": 73,
      "outputs": [
        {
          "output_type": "stream",
          "name": "stdout",
          "text": [
            "Fitting 3 folds for each of 36 candidates, totalling 108 fits\n",
            "[CV 1/3; 1/36] START classification__max_features=5, classification__n_estimators=16, preprocessing__normalizer__norm=l1\n",
            "[CV 1/3; 1/36] END classification__max_features=5, classification__n_estimators=16, preprocessing__normalizer__norm=l1;, score=0.934 total time=   2.4s\n",
            "[CV 2/3; 1/36] START classification__max_features=5, classification__n_estimators=16, preprocessing__normalizer__norm=l1\n",
            "[CV 2/3; 1/36] END classification__max_features=5, classification__n_estimators=16, preprocessing__normalizer__norm=l1;, score=0.935 total time=   2.3s\n",
            "[CV 3/3; 1/36] START classification__max_features=5, classification__n_estimators=16, preprocessing__normalizer__norm=l1\n",
            "[CV 3/3; 1/36] END classification__max_features=5, classification__n_estimators=16, preprocessing__normalizer__norm=l1;, score=0.933 total time=   2.3s\n",
            "[CV 1/3; 2/36] START classification__max_features=5, classification__n_estimators=16, preprocessing__normalizer__norm=l2\n",
            "[CV 1/3; 2/36] END classification__max_features=5, classification__n_estimators=16, preprocessing__normalizer__norm=l2;, score=0.934 total time=   2.3s\n",
            "[CV 2/3; 2/36] START classification__max_features=5, classification__n_estimators=16, preprocessing__normalizer__norm=l2\n",
            "[CV 2/3; 2/36] END classification__max_features=5, classification__n_estimators=16, preprocessing__normalizer__norm=l2;, score=0.934 total time=   2.9s\n",
            "[CV 3/3; 2/36] START classification__max_features=5, classification__n_estimators=16, preprocessing__normalizer__norm=l2\n",
            "[CV 3/3; 2/36] END classification__max_features=5, classification__n_estimators=16, preprocessing__normalizer__norm=l2;, score=0.934 total time=   2.2s\n",
            "[CV 1/3; 3/36] START classification__max_features=5, classification__n_estimators=16, preprocessing__normalizer__norm=max\n",
            "[CV 1/3; 3/36] END classification__max_features=5, classification__n_estimators=16, preprocessing__normalizer__norm=max;, score=0.936 total time=   1.9s\n",
            "[CV 2/3; 3/36] START classification__max_features=5, classification__n_estimators=16, preprocessing__normalizer__norm=max\n",
            "[CV 2/3; 3/36] END classification__max_features=5, classification__n_estimators=16, preprocessing__normalizer__norm=max;, score=0.933 total time=   1.9s\n",
            "[CV 3/3; 3/36] START classification__max_features=5, classification__n_estimators=16, preprocessing__normalizer__norm=max\n",
            "[CV 3/3; 3/36] END classification__max_features=5, classification__n_estimators=16, preprocessing__normalizer__norm=max;, score=0.934 total time=   2.0s\n",
            "[CV 1/3; 4/36] START classification__max_features=5, classification__n_estimators=32, preprocessing__normalizer__norm=l1\n",
            "[CV 1/3; 4/36] END classification__max_features=5, classification__n_estimators=32, preprocessing__normalizer__norm=l1;, score=0.949 total time=   5.0s\n",
            "[CV 2/3; 4/36] START classification__max_features=5, classification__n_estimators=32, preprocessing__normalizer__norm=l1\n",
            "[CV 2/3; 4/36] END classification__max_features=5, classification__n_estimators=32, preprocessing__normalizer__norm=l1;, score=0.948 total time=   4.0s\n",
            "[CV 3/3; 4/36] START classification__max_features=5, classification__n_estimators=32, preprocessing__normalizer__norm=l1\n",
            "[CV 3/3; 4/36] END classification__max_features=5, classification__n_estimators=32, preprocessing__normalizer__norm=l1;, score=0.949 total time=   4.0s\n",
            "[CV 1/3; 5/36] START classification__max_features=5, classification__n_estimators=32, preprocessing__normalizer__norm=l2\n",
            "[CV 1/3; 5/36] END classification__max_features=5, classification__n_estimators=32, preprocessing__normalizer__norm=l2;, score=0.948 total time=   4.7s\n",
            "[CV 2/3; 5/36] START classification__max_features=5, classification__n_estimators=32, preprocessing__normalizer__norm=l2\n",
            "[CV 2/3; 5/36] END classification__max_features=5, classification__n_estimators=32, preprocessing__normalizer__norm=l2;, score=0.949 total time=   4.1s\n",
            "[CV 3/3; 5/36] START classification__max_features=5, classification__n_estimators=32, preprocessing__normalizer__norm=l2\n",
            "[CV 3/3; 5/36] END classification__max_features=5, classification__n_estimators=32, preprocessing__normalizer__norm=l2;, score=0.948 total time=   3.8s\n",
            "[CV 1/3; 6/36] START classification__max_features=5, classification__n_estimators=32, preprocessing__normalizer__norm=max\n",
            "[CV 1/3; 6/36] END classification__max_features=5, classification__n_estimators=32, preprocessing__normalizer__norm=max;, score=0.952 total time=   3.4s\n",
            "[CV 2/3; 6/36] START classification__max_features=5, classification__n_estimators=32, preprocessing__normalizer__norm=max\n",
            "[CV 2/3; 6/36] END classification__max_features=5, classification__n_estimators=32, preprocessing__normalizer__norm=max;, score=0.951 total time=   4.1s\n",
            "[CV 3/3; 6/36] START classification__max_features=5, classification__n_estimators=32, preprocessing__normalizer__norm=max\n",
            "[CV 3/3; 6/36] END classification__max_features=5, classification__n_estimators=32, preprocessing__normalizer__norm=max;, score=0.950 total time=   3.3s\n",
            "[CV 1/3; 7/36] START classification__max_features=5, classification__n_estimators=64, preprocessing__normalizer__norm=l1\n",
            "[CV 1/3; 7/36] END classification__max_features=5, classification__n_estimators=64, preprocessing__normalizer__norm=l1;, score=0.955 total time=   8.1s\n",
            "[CV 2/3; 7/36] START classification__max_features=5, classification__n_estimators=64, preprocessing__normalizer__norm=l1\n",
            "[CV 2/3; 7/36] END classification__max_features=5, classification__n_estimators=64, preprocessing__normalizer__norm=l1;, score=0.955 total time=   7.3s\n",
            "[CV 3/3; 7/36] START classification__max_features=5, classification__n_estimators=64, preprocessing__normalizer__norm=l1\n",
            "[CV 3/3; 7/36] END classification__max_features=5, classification__n_estimators=64, preprocessing__normalizer__norm=l1;, score=0.954 total time=   8.7s\n",
            "[CV 1/3; 8/36] START classification__max_features=5, classification__n_estimators=64, preprocessing__normalizer__norm=l2\n",
            "[CV 1/3; 8/36] END classification__max_features=5, classification__n_estimators=64, preprocessing__normalizer__norm=l2;, score=0.957 total time=   7.1s\n",
            "[CV 2/3; 8/36] START classification__max_features=5, classification__n_estimators=64, preprocessing__normalizer__norm=l2\n",
            "[CV 2/3; 8/36] END classification__max_features=5, classification__n_estimators=64, preprocessing__normalizer__norm=l2;, score=0.957 total time=   8.4s\n",
            "[CV 3/3; 8/36] START classification__max_features=5, classification__n_estimators=64, preprocessing__normalizer__norm=l2\n",
            "[CV 3/3; 8/36] END classification__max_features=5, classification__n_estimators=64, preprocessing__normalizer__norm=l2;, score=0.957 total time=   7.6s\n",
            "[CV 1/3; 9/36] START classification__max_features=5, classification__n_estimators=64, preprocessing__normalizer__norm=max\n",
            "[CV 1/3; 9/36] END classification__max_features=5, classification__n_estimators=64, preprocessing__normalizer__norm=max;, score=0.956 total time=   6.4s\n",
            "[CV 2/3; 9/36] START classification__max_features=5, classification__n_estimators=64, preprocessing__normalizer__norm=max\n",
            "[CV 2/3; 9/36] END classification__max_features=5, classification__n_estimators=64, preprocessing__normalizer__norm=max;, score=0.957 total time=   6.0s\n",
            "[CV 3/3; 9/36] START classification__max_features=5, classification__n_estimators=64, preprocessing__normalizer__norm=max\n",
            "[CV 3/3; 9/36] END classification__max_features=5, classification__n_estimators=64, preprocessing__normalizer__norm=max;, score=0.957 total time=   6.9s\n",
            "[CV 1/3; 10/36] START classification__max_features=10, classification__n_estimators=16, preprocessing__normalizer__norm=l1\n",
            "[CV 1/3; 10/36] END classification__max_features=10, classification__n_estimators=16, preprocessing__normalizer__norm=l1;, score=0.943 total time=   3.3s\n",
            "[CV 2/3; 10/36] START classification__max_features=10, classification__n_estimators=16, preprocessing__normalizer__norm=l1\n",
            "[CV 2/3; 10/36] END classification__max_features=10, classification__n_estimators=16, preprocessing__normalizer__norm=l1;, score=0.940 total time=   3.6s\n",
            "[CV 3/3; 10/36] START classification__max_features=10, classification__n_estimators=16, preprocessing__normalizer__norm=l1\n",
            "[CV 3/3; 10/36] END classification__max_features=10, classification__n_estimators=16, preprocessing__normalizer__norm=l1;, score=0.942 total time=   3.8s\n",
            "[CV 1/3; 11/36] START classification__max_features=10, classification__n_estimators=16, preprocessing__normalizer__norm=l2\n",
            "[CV 1/3; 11/36] END classification__max_features=10, classification__n_estimators=16, preprocessing__normalizer__norm=l2;, score=0.942 total time=   3.1s\n",
            "[CV 2/3; 11/36] START classification__max_features=10, classification__n_estimators=16, preprocessing__normalizer__norm=l2\n",
            "[CV 2/3; 11/36] END classification__max_features=10, classification__n_estimators=16, preprocessing__normalizer__norm=l2;, score=0.942 total time=   3.2s\n",
            "[CV 3/3; 11/36] START classification__max_features=10, classification__n_estimators=16, preprocessing__normalizer__norm=l2\n",
            "[CV 3/3; 11/36] END classification__max_features=10, classification__n_estimators=16, preprocessing__normalizer__norm=l2;, score=0.939 total time=   3.8s\n",
            "[CV 1/3; 12/36] START classification__max_features=10, classification__n_estimators=16, preprocessing__normalizer__norm=max\n",
            "[CV 1/3; 12/36] END classification__max_features=10, classification__n_estimators=16, preprocessing__normalizer__norm=max;, score=0.942 total time=   3.0s\n",
            "[CV 2/3; 12/36] START classification__max_features=10, classification__n_estimators=16, preprocessing__normalizer__norm=max\n",
            "[CV 2/3; 12/36] END classification__max_features=10, classification__n_estimators=16, preprocessing__normalizer__norm=max;, score=0.940 total time=   2.6s\n",
            "[CV 3/3; 12/36] START classification__max_features=10, classification__n_estimators=16, preprocessing__normalizer__norm=max\n",
            "[CV 3/3; 12/36] END classification__max_features=10, classification__n_estimators=16, preprocessing__normalizer__norm=max;, score=0.942 total time=   2.6s\n",
            "[CV 1/3; 13/36] START classification__max_features=10, classification__n_estimators=32, preprocessing__normalizer__norm=l1\n",
            "[CV 1/3; 13/36] END classification__max_features=10, classification__n_estimators=32, preprocessing__normalizer__norm=l1;, score=0.953 total time=   6.9s\n",
            "[CV 2/3; 13/36] START classification__max_features=10, classification__n_estimators=32, preprocessing__normalizer__norm=l1\n",
            "[CV 2/3; 13/36] END classification__max_features=10, classification__n_estimators=32, preprocessing__normalizer__norm=l1;, score=0.953 total time=   5.9s\n",
            "[CV 3/3; 13/36] START classification__max_features=10, classification__n_estimators=32, preprocessing__normalizer__norm=l1\n",
            "[CV 3/3; 13/36] END classification__max_features=10, classification__n_estimators=32, preprocessing__normalizer__norm=l1;, score=0.953 total time=   6.8s\n",
            "[CV 1/3; 14/36] START classification__max_features=10, classification__n_estimators=32, preprocessing__normalizer__norm=l2\n",
            "[CV 1/3; 14/36] END classification__max_features=10, classification__n_estimators=32, preprocessing__normalizer__norm=l2;, score=0.953 total time=   5.9s\n",
            "[CV 2/3; 14/36] START classification__max_features=10, classification__n_estimators=32, preprocessing__normalizer__norm=l2\n",
            "[CV 2/3; 14/36] END classification__max_features=10, classification__n_estimators=32, preprocessing__normalizer__norm=l2;, score=0.952 total time=   6.2s\n",
            "[CV 3/3; 14/36] START classification__max_features=10, classification__n_estimators=32, preprocessing__normalizer__norm=l2\n",
            "[CV 3/3; 14/36] END classification__max_features=10, classification__n_estimators=32, preprocessing__normalizer__norm=l2;, score=0.953 total time=   6.3s\n",
            "[CV 1/3; 15/36] START classification__max_features=10, classification__n_estimators=32, preprocessing__normalizer__norm=max\n",
            "[CV 1/3; 15/36] END classification__max_features=10, classification__n_estimators=32, preprocessing__normalizer__norm=max;, score=0.955 total time=   4.5s\n",
            "[CV 2/3; 15/36] START classification__max_features=10, classification__n_estimators=32, preprocessing__normalizer__norm=max\n",
            "[CV 2/3; 15/36] END classification__max_features=10, classification__n_estimators=32, preprocessing__normalizer__norm=max;, score=0.953 total time=   5.5s\n",
            "[CV 3/3; 15/36] START classification__max_features=10, classification__n_estimators=32, preprocessing__normalizer__norm=max\n",
            "[CV 3/3; 15/36] END classification__max_features=10, classification__n_estimators=32, preprocessing__normalizer__norm=max;, score=0.957 total time=   4.6s\n",
            "[CV 1/3; 16/36] START classification__max_features=10, classification__n_estimators=64, preprocessing__normalizer__norm=l1\n",
            "[CV 1/3; 16/36] END classification__max_features=10, classification__n_estimators=64, preprocessing__normalizer__norm=l1;, score=0.958 total time=  12.2s\n",
            "[CV 2/3; 16/36] START classification__max_features=10, classification__n_estimators=64, preprocessing__normalizer__norm=l1\n",
            "[CV 2/3; 16/36] END classification__max_features=10, classification__n_estimators=64, preprocessing__normalizer__norm=l1;, score=0.958 total time=  12.1s\n",
            "[CV 3/3; 16/36] START classification__max_features=10, classification__n_estimators=64, preprocessing__normalizer__norm=l1\n",
            "[CV 3/3; 16/36] END classification__max_features=10, classification__n_estimators=64, preprocessing__normalizer__norm=l1;, score=0.961 total time=  12.1s\n",
            "[CV 1/3; 17/36] START classification__max_features=10, classification__n_estimators=64, preprocessing__normalizer__norm=l2\n",
            "[CV 1/3; 17/36] END classification__max_features=10, classification__n_estimators=64, preprocessing__normalizer__norm=l2;, score=0.960 total time=  11.9s\n",
            "[CV 2/3; 17/36] START classification__max_features=10, classification__n_estimators=64, preprocessing__normalizer__norm=l2\n",
            "[CV 2/3; 17/36] END classification__max_features=10, classification__n_estimators=64, preprocessing__normalizer__norm=l2;, score=0.958 total time=  11.6s\n",
            "[CV 3/3; 17/36] START classification__max_features=10, classification__n_estimators=64, preprocessing__normalizer__norm=l2\n",
            "[CV 3/3; 17/36] END classification__max_features=10, classification__n_estimators=64, preprocessing__normalizer__norm=l2;, score=0.959 total time=  11.4s\n",
            "[CV 1/3; 18/36] START classification__max_features=10, classification__n_estimators=64, preprocessing__normalizer__norm=max\n",
            "[CV 1/3; 18/36] END classification__max_features=10, classification__n_estimators=64, preprocessing__normalizer__norm=max;, score=0.961 total time=   9.4s\n",
            "[CV 2/3; 18/36] START classification__max_features=10, classification__n_estimators=64, preprocessing__normalizer__norm=max\n",
            "[CV 2/3; 18/36] END classification__max_features=10, classification__n_estimators=64, preprocessing__normalizer__norm=max;, score=0.959 total time=   9.4s\n",
            "[CV 3/3; 18/36] START classification__max_features=10, classification__n_estimators=64, preprocessing__normalizer__norm=max\n",
            "[CV 3/3; 18/36] END classification__max_features=10, classification__n_estimators=64, preprocessing__normalizer__norm=max;, score=0.961 total time=   8.6s\n",
            "[CV 1/3; 19/36] START classification__max_features=sqrt, classification__n_estimators=64, preprocessing__normalizer__norm=l1\n",
            "[CV 1/3; 19/36] END classification__max_features=sqrt, classification__n_estimators=64, preprocessing__normalizer__norm=l1;, score=0.961 total time=  29.6s\n",
            "[CV 2/3; 19/36] START classification__max_features=sqrt, classification__n_estimators=64, preprocessing__normalizer__norm=l1\n",
            "[CV 2/3; 19/36] END classification__max_features=sqrt, classification__n_estimators=64, preprocessing__normalizer__norm=l1;, score=0.962 total time=  29.2s\n",
            "[CV 3/3; 19/36] START classification__max_features=sqrt, classification__n_estimators=64, preprocessing__normalizer__norm=l1\n",
            "[CV 3/3; 19/36] END classification__max_features=sqrt, classification__n_estimators=64, preprocessing__normalizer__norm=l1;, score=0.962 total time=  29.2s\n",
            "[CV 1/3; 20/36] START classification__max_features=sqrt, classification__n_estimators=64, preprocessing__normalizer__norm=l2\n",
            "[CV 1/3; 20/36] END classification__max_features=sqrt, classification__n_estimators=64, preprocessing__normalizer__norm=l2;, score=0.962 total time=  29.0s\n",
            "[CV 2/3; 20/36] START classification__max_features=sqrt, classification__n_estimators=64, preprocessing__normalizer__norm=l2\n",
            "[CV 2/3; 20/36] END classification__max_features=sqrt, classification__n_estimators=64, preprocessing__normalizer__norm=l2;, score=0.962 total time=  29.5s\n",
            "[CV 3/3; 20/36] START classification__max_features=sqrt, classification__n_estimators=64, preprocessing__normalizer__norm=l2\n",
            "[CV 3/3; 20/36] END classification__max_features=sqrt, classification__n_estimators=64, preprocessing__normalizer__norm=l2;, score=0.962 total time=  30.1s\n",
            "[CV 1/3; 21/36] START classification__max_features=sqrt, classification__n_estimators=64, preprocessing__normalizer__norm=max\n",
            "[CV 1/3; 21/36] END classification__max_features=sqrt, classification__n_estimators=64, preprocessing__normalizer__norm=max;, score=0.964 total time=  19.3s\n",
            "[CV 2/3; 21/36] START classification__max_features=sqrt, classification__n_estimators=64, preprocessing__normalizer__norm=max\n",
            "[CV 2/3; 21/36] END classification__max_features=sqrt, classification__n_estimators=64, preprocessing__normalizer__norm=max;, score=0.962 total time=  19.4s\n",
            "[CV 3/3; 21/36] START classification__max_features=sqrt, classification__n_estimators=64, preprocessing__normalizer__norm=max\n",
            "[CV 3/3; 21/36] END classification__max_features=sqrt, classification__n_estimators=64, preprocessing__normalizer__norm=max;, score=0.963 total time=  19.7s\n",
            "[CV 1/3; 22/36] START classification__max_features=sqrt, classification__n_estimators=128, preprocessing__normalizer__norm=l1\n",
            "[CV 1/3; 22/36] END classification__max_features=sqrt, classification__n_estimators=128, preprocessing__normalizer__norm=l1;, score=0.963 total time=  57.0s\n",
            "[CV 2/3; 22/36] START classification__max_features=sqrt, classification__n_estimators=128, preprocessing__normalizer__norm=l1\n",
            "[CV 2/3; 22/36] END classification__max_features=sqrt, classification__n_estimators=128, preprocessing__normalizer__norm=l1;, score=0.963 total time=  57.7s\n",
            "[CV 3/3; 22/36] START classification__max_features=sqrt, classification__n_estimators=128, preprocessing__normalizer__norm=l1\n",
            "[CV 3/3; 22/36] END classification__max_features=sqrt, classification__n_estimators=128, preprocessing__normalizer__norm=l1;, score=0.965 total time=  57.5s\n",
            "[CV 1/3; 23/36] START classification__max_features=sqrt, classification__n_estimators=128, preprocessing__normalizer__norm=l2\n",
            "[CV 1/3; 23/36] END classification__max_features=sqrt, classification__n_estimators=128, preprocessing__normalizer__norm=l2;, score=0.964 total time=  56.7s\n",
            "[CV 2/3; 23/36] START classification__max_features=sqrt, classification__n_estimators=128, preprocessing__normalizer__norm=l2\n",
            "[CV 2/3; 23/36] END classification__max_features=sqrt, classification__n_estimators=128, preprocessing__normalizer__norm=l2;, score=0.964 total time=  57.4s\n",
            "[CV 3/3; 23/36] START classification__max_features=sqrt, classification__n_estimators=128, preprocessing__normalizer__norm=l2\n",
            "[CV 3/3; 23/36] END classification__max_features=sqrt, classification__n_estimators=128, preprocessing__normalizer__norm=l2;, score=0.963 total time=  58.1s\n",
            "[CV 1/3; 24/36] START classification__max_features=sqrt, classification__n_estimators=128, preprocessing__normalizer__norm=max\n",
            "[CV 1/3; 24/36] END classification__max_features=sqrt, classification__n_estimators=128, preprocessing__normalizer__norm=max;, score=0.966 total time=  37.7s\n",
            "[CV 2/3; 24/36] START classification__max_features=sqrt, classification__n_estimators=128, preprocessing__normalizer__norm=max\n",
            "[CV 2/3; 24/36] END classification__max_features=sqrt, classification__n_estimators=128, preprocessing__normalizer__norm=max;, score=0.965 total time=  37.9s\n",
            "[CV 3/3; 24/36] START classification__max_features=sqrt, classification__n_estimators=128, preprocessing__normalizer__norm=max\n",
            "[CV 3/3; 24/36] END classification__max_features=sqrt, classification__n_estimators=128, preprocessing__normalizer__norm=max;, score=0.966 total time=  38.5s\n",
            "[CV 1/3; 25/36] START classification__max_features=sqrt, classification__n_estimators=256, preprocessing__normalizer__norm=l1\n",
            "[CV 1/3; 25/36] END classification__max_features=sqrt, classification__n_estimators=256, preprocessing__normalizer__norm=l1;, score=0.963 total time= 1.9min\n",
            "[CV 2/3; 25/36] START classification__max_features=sqrt, classification__n_estimators=256, preprocessing__normalizer__norm=l1\n",
            "[CV 2/3; 25/36] END classification__max_features=sqrt, classification__n_estimators=256, preprocessing__normalizer__norm=l1;, score=0.964 total time= 1.9min\n",
            "[CV 3/3; 25/36] START classification__max_features=sqrt, classification__n_estimators=256, preprocessing__normalizer__norm=l1\n",
            "[CV 3/3; 25/36] END classification__max_features=sqrt, classification__n_estimators=256, preprocessing__normalizer__norm=l1;, score=0.965 total time= 1.9min\n",
            "[CV 1/3; 26/36] START classification__max_features=sqrt, classification__n_estimators=256, preprocessing__normalizer__norm=l2\n",
            "[CV 1/3; 26/36] END classification__max_features=sqrt, classification__n_estimators=256, preprocessing__normalizer__norm=l2;, score=0.965 total time= 1.9min\n",
            "[CV 2/3; 26/36] START classification__max_features=sqrt, classification__n_estimators=256, preprocessing__normalizer__norm=l2\n",
            "[CV 2/3; 26/36] END classification__max_features=sqrt, classification__n_estimators=256, preprocessing__normalizer__norm=l2;, score=0.964 total time= 2.0min\n",
            "[CV 3/3; 26/36] START classification__max_features=sqrt, classification__n_estimators=256, preprocessing__normalizer__norm=l2\n",
            "[CV 3/3; 26/36] END classification__max_features=sqrt, classification__n_estimators=256, preprocessing__normalizer__norm=l2;, score=0.965 total time= 1.9min\n",
            "[CV 1/3; 27/36] START classification__max_features=sqrt, classification__n_estimators=256, preprocessing__normalizer__norm=max\n",
            "[CV 1/3; 27/36] END classification__max_features=sqrt, classification__n_estimators=256, preprocessing__normalizer__norm=max;, score=0.966 total time= 1.3min\n",
            "[CV 2/3; 27/36] START classification__max_features=sqrt, classification__n_estimators=256, preprocessing__normalizer__norm=max\n",
            "[CV 2/3; 27/36] END classification__max_features=sqrt, classification__n_estimators=256, preprocessing__normalizer__norm=max;, score=0.965 total time= 1.3min\n",
            "[CV 3/3; 27/36] START classification__max_features=sqrt, classification__n_estimators=256, preprocessing__normalizer__norm=max\n",
            "[CV 3/3; 27/36] END classification__max_features=sqrt, classification__n_estimators=256, preprocessing__normalizer__norm=max;, score=0.966 total time= 1.3min\n",
            "[CV 1/3; 28/36] START classification__max_features=log2, classification__n_estimators=64, preprocessing__normalizer__norm=l1\n",
            "[CV 1/3; 28/36] END classification__max_features=log2, classification__n_estimators=64, preprocessing__normalizer__norm=l1;, score=0.959 total time=  11.6s\n",
            "[CV 2/3; 28/36] START classification__max_features=log2, classification__n_estimators=64, preprocessing__normalizer__norm=l1\n",
            "[CV 2/3; 28/36] END classification__max_features=log2, classification__n_estimators=64, preprocessing__normalizer__norm=l1;, score=0.957 total time=  11.5s\n",
            "[CV 3/3; 28/36] START classification__max_features=log2, classification__n_estimators=64, preprocessing__normalizer__norm=l1\n",
            "[CV 3/3; 28/36] END classification__max_features=log2, classification__n_estimators=64, preprocessing__normalizer__norm=l1;, score=0.959 total time=  11.0s\n",
            "[CV 1/3; 29/36] START classification__max_features=log2, classification__n_estimators=64, preprocessing__normalizer__norm=l2\n",
            "[CV 1/3; 29/36] END classification__max_features=log2, classification__n_estimators=64, preprocessing__normalizer__norm=l2;, score=0.957 total time=  10.5s\n",
            "[CV 2/3; 29/36] START classification__max_features=log2, classification__n_estimators=64, preprocessing__normalizer__norm=l2\n",
            "[CV 2/3; 29/36] END classification__max_features=log2, classification__n_estimators=64, preprocessing__normalizer__norm=l2;, score=0.958 total time=  11.4s\n",
            "[CV 3/3; 29/36] START classification__max_features=log2, classification__n_estimators=64, preprocessing__normalizer__norm=l2\n",
            "[CV 3/3; 29/36] END classification__max_features=log2, classification__n_estimators=64, preprocessing__normalizer__norm=l2;, score=0.958 total time=  11.4s\n",
            "[CV 1/3; 30/36] START classification__max_features=log2, classification__n_estimators=64, preprocessing__normalizer__norm=max\n",
            "[CV 1/3; 30/36] END classification__max_features=log2, classification__n_estimators=64, preprocessing__normalizer__norm=max;, score=0.958 total time=   8.9s\n",
            "[CV 2/3; 30/36] START classification__max_features=log2, classification__n_estimators=64, preprocessing__normalizer__norm=max\n",
            "[CV 2/3; 30/36] END classification__max_features=log2, classification__n_estimators=64, preprocessing__normalizer__norm=max;, score=0.957 total time=   7.9s\n",
            "[CV 3/3; 30/36] START classification__max_features=log2, classification__n_estimators=64, preprocessing__normalizer__norm=max\n",
            "[CV 3/3; 30/36] END classification__max_features=log2, classification__n_estimators=64, preprocessing__normalizer__norm=max;, score=0.961 total time=   8.9s\n",
            "[CV 1/3; 31/36] START classification__max_features=log2, classification__n_estimators=128, preprocessing__normalizer__norm=l1\n",
            "[CV 1/3; 31/36] END classification__max_features=log2, classification__n_estimators=128, preprocessing__normalizer__norm=l1;, score=0.961 total time=  22.0s\n",
            "[CV 2/3; 31/36] START classification__max_features=log2, classification__n_estimators=128, preprocessing__normalizer__norm=l1\n",
            "[CV 2/3; 31/36] END classification__max_features=log2, classification__n_estimators=128, preprocessing__normalizer__norm=l1;, score=0.962 total time=  21.2s\n",
            "[CV 3/3; 31/36] START classification__max_features=log2, classification__n_estimators=128, preprocessing__normalizer__norm=l1\n",
            "[CV 3/3; 31/36] END classification__max_features=log2, classification__n_estimators=128, preprocessing__normalizer__norm=l1;, score=0.962 total time=  22.2s\n",
            "[CV 1/3; 32/36] START classification__max_features=log2, classification__n_estimators=128, preprocessing__normalizer__norm=l2\n",
            "[CV 1/3; 32/36] END classification__max_features=log2, classification__n_estimators=128, preprocessing__normalizer__norm=l2;, score=0.960 total time=  21.2s\n",
            "[CV 2/3; 32/36] START classification__max_features=log2, classification__n_estimators=128, preprocessing__normalizer__norm=l2\n",
            "[CV 2/3; 32/36] END classification__max_features=log2, classification__n_estimators=128, preprocessing__normalizer__norm=l2;, score=0.961 total time=  21.7s\n",
            "[CV 3/3; 32/36] START classification__max_features=log2, classification__n_estimators=128, preprocessing__normalizer__norm=l2\n",
            "[CV 3/3; 32/36] END classification__max_features=log2, classification__n_estimators=128, preprocessing__normalizer__norm=l2;, score=0.962 total time=  22.2s\n",
            "[CV 1/3; 33/36] START classification__max_features=log2, classification__n_estimators=128, preprocessing__normalizer__norm=max\n",
            "[CV 1/3; 33/36] END classification__max_features=log2, classification__n_estimators=128, preprocessing__normalizer__norm=max;, score=0.961 total time=  16.3s\n",
            "[CV 2/3; 33/36] START classification__max_features=log2, classification__n_estimators=128, preprocessing__normalizer__norm=max\n",
            "[CV 2/3; 33/36] END classification__max_features=log2, classification__n_estimators=128, preprocessing__normalizer__norm=max;, score=0.961 total time=  16.2s\n",
            "[CV 3/3; 33/36] START classification__max_features=log2, classification__n_estimators=128, preprocessing__normalizer__norm=max\n",
            "[CV 3/3; 33/36] END classification__max_features=log2, classification__n_estimators=128, preprocessing__normalizer__norm=max;, score=0.962 total time=  16.5s\n",
            "[CV 1/3; 34/36] START classification__max_features=log2, classification__n_estimators=256, preprocessing__normalizer__norm=l1\n",
            "[CV 1/3; 34/36] END classification__max_features=log2, classification__n_estimators=256, preprocessing__normalizer__norm=l1;, score=0.962 total time=  43.3s\n",
            "[CV 2/3; 34/36] START classification__max_features=log2, classification__n_estimators=256, preprocessing__normalizer__norm=l1\n",
            "[CV 2/3; 34/36] END classification__max_features=log2, classification__n_estimators=256, preprocessing__normalizer__norm=l1;, score=0.961 total time=  42.9s\n",
            "[CV 3/3; 34/36] START classification__max_features=log2, classification__n_estimators=256, preprocessing__normalizer__norm=l1\n",
            "[CV 3/3; 34/36] END classification__max_features=log2, classification__n_estimators=256, preprocessing__normalizer__norm=l1;, score=0.963 total time=  43.3s\n",
            "[CV 1/3; 35/36] START classification__max_features=log2, classification__n_estimators=256, preprocessing__normalizer__norm=l2\n",
            "[CV 1/3; 35/36] END classification__max_features=log2, classification__n_estimators=256, preprocessing__normalizer__norm=l2;, score=0.962 total time=  42.9s\n",
            "[CV 2/3; 35/36] START classification__max_features=log2, classification__n_estimators=256, preprocessing__normalizer__norm=l2\n",
            "[CV 2/3; 35/36] END classification__max_features=log2, classification__n_estimators=256, preprocessing__normalizer__norm=l2;, score=0.962 total time=  43.3s\n",
            "[CV 3/3; 35/36] START classification__max_features=log2, classification__n_estimators=256, preprocessing__normalizer__norm=l2\n",
            "[CV 3/3; 35/36] END classification__max_features=log2, classification__n_estimators=256, preprocessing__normalizer__norm=l2;, score=0.963 total time=  42.7s\n",
            "[CV 1/3; 36/36] START classification__max_features=log2, classification__n_estimators=256, preprocessing__normalizer__norm=max\n",
            "[CV 1/3; 36/36] END classification__max_features=log2, classification__n_estimators=256, preprocessing__normalizer__norm=max;, score=0.963 total time=  31.9s\n",
            "[CV 2/3; 36/36] START classification__max_features=log2, classification__n_estimators=256, preprocessing__normalizer__norm=max\n",
            "[CV 2/3; 36/36] END classification__max_features=log2, classification__n_estimators=256, preprocessing__normalizer__norm=max;, score=0.962 total time=  32.8s\n",
            "[CV 3/3; 36/36] START classification__max_features=log2, classification__n_estimators=256, preprocessing__normalizer__norm=max\n",
            "[CV 3/3; 36/36] END classification__max_features=log2, classification__n_estimators=256, preprocessing__normalizer__norm=max;, score=0.965 total time=  31.8s\n"
          ]
        },
        {
          "output_type": "execute_result",
          "data": {
            "text/plain": [
              "GridSearchCV(cv=3,\n",
              "             estimator=Pipeline(steps=[('preprocessing',\n",
              "                                        Pipeline(steps=[('normalizer',\n",
              "                                                         Normalizer())])),\n",
              "                                       ('classification',\n",
              "                                        RandomForestClassifier(random_state=42))]),\n",
              "             param_grid=({'classification__max_features': range(5, 15, 5),\n",
              "                          'classification__n_estimators': (16, 32, 64),\n",
              "                          'preprocessing__normalizer__norm': ('l1', 'l2',\n",
              "                                                              'max')},\n",
              "                         {'classification__max_features': ('sqrt', 'log2'),\n",
              "                          'classification__n_estimators': (64, 128, 256),\n",
              "                          'preprocessing__normalizer__norm': ('l1', 'l2',\n",
              "                                                              'max')}),\n",
              "             scoring='accuracy', verbose=10)"
            ],
            "text/html": [
              "<style>#sk-container-id-1 {color: black;background-color: white;}#sk-container-id-1 pre{padding: 0;}#sk-container-id-1 div.sk-toggleable {background-color: white;}#sk-container-id-1 label.sk-toggleable__label {cursor: pointer;display: block;width: 100%;margin-bottom: 0;padding: 0.3em;box-sizing: border-box;text-align: center;}#sk-container-id-1 label.sk-toggleable__label-arrow:before {content: \"▸\";float: left;margin-right: 0.25em;color: #696969;}#sk-container-id-1 label.sk-toggleable__label-arrow:hover:before {color: black;}#sk-container-id-1 div.sk-estimator:hover label.sk-toggleable__label-arrow:before {color: black;}#sk-container-id-1 div.sk-toggleable__content {max-height: 0;max-width: 0;overflow: hidden;text-align: left;background-color: #f0f8ff;}#sk-container-id-1 div.sk-toggleable__content pre {margin: 0.2em;color: black;border-radius: 0.25em;background-color: #f0f8ff;}#sk-container-id-1 input.sk-toggleable__control:checked~div.sk-toggleable__content {max-height: 200px;max-width: 100%;overflow: auto;}#sk-container-id-1 input.sk-toggleable__control:checked~label.sk-toggleable__label-arrow:before {content: \"▾\";}#sk-container-id-1 div.sk-estimator input.sk-toggleable__control:checked~label.sk-toggleable__label {background-color: #d4ebff;}#sk-container-id-1 div.sk-label input.sk-toggleable__control:checked~label.sk-toggleable__label {background-color: #d4ebff;}#sk-container-id-1 input.sk-hidden--visually {border: 0;clip: rect(1px 1px 1px 1px);clip: rect(1px, 1px, 1px, 1px);height: 1px;margin: -1px;overflow: hidden;padding: 0;position: absolute;width: 1px;}#sk-container-id-1 div.sk-estimator {font-family: monospace;background-color: #f0f8ff;border: 1px dotted black;border-radius: 0.25em;box-sizing: border-box;margin-bottom: 0.5em;}#sk-container-id-1 div.sk-estimator:hover {background-color: #d4ebff;}#sk-container-id-1 div.sk-parallel-item::after {content: \"\";width: 100%;border-bottom: 1px solid gray;flex-grow: 1;}#sk-container-id-1 div.sk-label:hover label.sk-toggleable__label {background-color: #d4ebff;}#sk-container-id-1 div.sk-serial::before {content: \"\";position: absolute;border-left: 1px solid gray;box-sizing: border-box;top: 0;bottom: 0;left: 50%;z-index: 0;}#sk-container-id-1 div.sk-serial {display: flex;flex-direction: column;align-items: center;background-color: white;padding-right: 0.2em;padding-left: 0.2em;position: relative;}#sk-container-id-1 div.sk-item {position: relative;z-index: 1;}#sk-container-id-1 div.sk-parallel {display: flex;align-items: stretch;justify-content: center;background-color: white;position: relative;}#sk-container-id-1 div.sk-item::before, #sk-container-id-1 div.sk-parallel-item::before {content: \"\";position: absolute;border-left: 1px solid gray;box-sizing: border-box;top: 0;bottom: 0;left: 50%;z-index: -1;}#sk-container-id-1 div.sk-parallel-item {display: flex;flex-direction: column;z-index: 1;position: relative;background-color: white;}#sk-container-id-1 div.sk-parallel-item:first-child::after {align-self: flex-end;width: 50%;}#sk-container-id-1 div.sk-parallel-item:last-child::after {align-self: flex-start;width: 50%;}#sk-container-id-1 div.sk-parallel-item:only-child::after {width: 0;}#sk-container-id-1 div.sk-dashed-wrapped {border: 1px dashed gray;margin: 0 0.4em 0.5em 0.4em;box-sizing: border-box;padding-bottom: 0.4em;background-color: white;}#sk-container-id-1 div.sk-label label {font-family: monospace;font-weight: bold;display: inline-block;line-height: 1.2em;}#sk-container-id-1 div.sk-label-container {text-align: center;}#sk-container-id-1 div.sk-container {/* jupyter's `normalize.less` sets `[hidden] { display: none; }` but bootstrap.min.css set `[hidden] { display: none !important; }` so we also need the `!important` here to be able to override the default hidden behavior on the sphinx rendered scikit-learn.org. See: https://github.com/scikit-learn/scikit-learn/issues/21755 */display: inline-block !important;position: relative;}#sk-container-id-1 div.sk-text-repr-fallback {display: none;}</style><div id=\"sk-container-id-1\" class=\"sk-top-container\"><div class=\"sk-text-repr-fallback\"><pre>GridSearchCV(cv=3,\n",
              "             estimator=Pipeline(steps=[(&#x27;preprocessing&#x27;,\n",
              "                                        Pipeline(steps=[(&#x27;normalizer&#x27;,\n",
              "                                                         Normalizer())])),\n",
              "                                       (&#x27;classification&#x27;,\n",
              "                                        RandomForestClassifier(random_state=42))]),\n",
              "             param_grid=({&#x27;classification__max_features&#x27;: range(5, 15, 5),\n",
              "                          &#x27;classification__n_estimators&#x27;: (16, 32, 64),\n",
              "                          &#x27;preprocessing__normalizer__norm&#x27;: (&#x27;l1&#x27;, &#x27;l2&#x27;,\n",
              "                                                              &#x27;max&#x27;)},\n",
              "                         {&#x27;classification__max_features&#x27;: (&#x27;sqrt&#x27;, &#x27;log2&#x27;),\n",
              "                          &#x27;classification__n_estimators&#x27;: (64, 128, 256),\n",
              "                          &#x27;preprocessing__normalizer__norm&#x27;: (&#x27;l1&#x27;, &#x27;l2&#x27;,\n",
              "                                                              &#x27;max&#x27;)}),\n",
              "             scoring=&#x27;accuracy&#x27;, verbose=10)</pre><b>In a Jupyter environment, please rerun this cell to show the HTML representation or trust the notebook. <br />On GitHub, the HTML representation is unable to render, please try loading this page with nbviewer.org.</b></div><div class=\"sk-container\" hidden><div class=\"sk-item sk-dashed-wrapped\"><div class=\"sk-label-container\"><div class=\"sk-label sk-toggleable\"><input class=\"sk-toggleable__control sk-hidden--visually\" id=\"sk-estimator-id-1\" type=\"checkbox\" ><label for=\"sk-estimator-id-1\" class=\"sk-toggleable__label sk-toggleable__label-arrow\">GridSearchCV</label><div class=\"sk-toggleable__content\"><pre>GridSearchCV(cv=3,\n",
              "             estimator=Pipeline(steps=[(&#x27;preprocessing&#x27;,\n",
              "                                        Pipeline(steps=[(&#x27;normalizer&#x27;,\n",
              "                                                         Normalizer())])),\n",
              "                                       (&#x27;classification&#x27;,\n",
              "                                        RandomForestClassifier(random_state=42))]),\n",
              "             param_grid=({&#x27;classification__max_features&#x27;: range(5, 15, 5),\n",
              "                          &#x27;classification__n_estimators&#x27;: (16, 32, 64),\n",
              "                          &#x27;preprocessing__normalizer__norm&#x27;: (&#x27;l1&#x27;, &#x27;l2&#x27;,\n",
              "                                                              &#x27;max&#x27;)},\n",
              "                         {&#x27;classification__max_features&#x27;: (&#x27;sqrt&#x27;, &#x27;log2&#x27;),\n",
              "                          &#x27;classification__n_estimators&#x27;: (64, 128, 256),\n",
              "                          &#x27;preprocessing__normalizer__norm&#x27;: (&#x27;l1&#x27;, &#x27;l2&#x27;,\n",
              "                                                              &#x27;max&#x27;)}),\n",
              "             scoring=&#x27;accuracy&#x27;, verbose=10)</pre></div></div></div><div class=\"sk-parallel\"><div class=\"sk-parallel-item\"><div class=\"sk-item\"><div class=\"sk-label-container\"><div class=\"sk-label sk-toggleable\"><input class=\"sk-toggleable__control sk-hidden--visually\" id=\"sk-estimator-id-2\" type=\"checkbox\" ><label for=\"sk-estimator-id-2\" class=\"sk-toggleable__label sk-toggleable__label-arrow\">estimator: Pipeline</label><div class=\"sk-toggleable__content\"><pre>Pipeline(steps=[(&#x27;preprocessing&#x27;,\n",
              "                 Pipeline(steps=[(&#x27;normalizer&#x27;, Normalizer())])),\n",
              "                (&#x27;classification&#x27;, RandomForestClassifier(random_state=42))])</pre></div></div></div><div class=\"sk-serial\"><div class=\"sk-item\"><div class=\"sk-serial\"><div class=\"sk-item\"><div class=\"sk-label-container\"><div class=\"sk-label sk-toggleable\"><input class=\"sk-toggleable__control sk-hidden--visually\" id=\"sk-estimator-id-3\" type=\"checkbox\" ><label for=\"sk-estimator-id-3\" class=\"sk-toggleable__label sk-toggleable__label-arrow\">preprocessing: Pipeline</label><div class=\"sk-toggleable__content\"><pre>Pipeline(steps=[(&#x27;normalizer&#x27;, Normalizer())])</pre></div></div></div><div class=\"sk-serial\"><div class=\"sk-item\"><div class=\"sk-estimator sk-toggleable\"><input class=\"sk-toggleable__control sk-hidden--visually\" id=\"sk-estimator-id-4\" type=\"checkbox\" ><label for=\"sk-estimator-id-4\" class=\"sk-toggleable__label sk-toggleable__label-arrow\">Normalizer</label><div class=\"sk-toggleable__content\"><pre>Normalizer()</pre></div></div></div></div></div><div class=\"sk-item\"><div class=\"sk-estimator sk-toggleable\"><input class=\"sk-toggleable__control sk-hidden--visually\" id=\"sk-estimator-id-5\" type=\"checkbox\" ><label for=\"sk-estimator-id-5\" class=\"sk-toggleable__label sk-toggleable__label-arrow\">RandomForestClassifier</label><div class=\"sk-toggleable__content\"><pre>RandomForestClassifier(random_state=42)</pre></div></div></div></div></div></div></div></div></div></div></div></div>"
            ]
          },
          "metadata": {},
          "execution_count": 73
        }
      ]
    },
    {
      "cell_type": "code",
      "source": [
        "grid_search.best_params_"
      ],
      "metadata": {
        "colab": {
          "base_uri": "https://localhost:8080/"
        },
        "id": "FC-gzfqpxW9C",
        "outputId": "9fa47e92-4b15-4582-c6ec-1665b37903b7"
      },
      "execution_count": 74,
      "outputs": [
        {
          "output_type": "execute_result",
          "data": {
            "text/plain": [
              "{'classification__max_features': 'sqrt',\n",
              " 'classification__n_estimators': 256,\n",
              " 'preprocessing__normalizer__norm': 'max'}"
            ]
          },
          "metadata": {},
          "execution_count": 74
        }
      ]
    },
    {
      "cell_type": "code",
      "source": [
        "y_pred = grid_search.predict(X_test)"
      ],
      "metadata": {
        "id": "XwcosfP9xYFK"
      },
      "execution_count": 75,
      "outputs": []
    },
    {
      "cell_type": "code",
      "source": [
        "grid_search.score(X_test, y_test)"
      ],
      "metadata": {
        "colab": {
          "base_uri": "https://localhost:8080/"
        },
        "id": "Bmvfk_vXxY4a",
        "outputId": "e30c7ccd-8df6-4aa0-fbbb-b28109e3ceef"
      },
      "execution_count": 76,
      "outputs": [
        {
          "output_type": "execute_result",
          "data": {
            "text/plain": [
              "0.9732857142857143"
            ]
          },
          "metadata": {},
          "execution_count": 76
        }
      ]
    }
  ]
}